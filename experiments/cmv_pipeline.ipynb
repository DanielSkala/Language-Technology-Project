{
 "cells": [
  {
   "cell_type": "code",
   "execution_count": 1,
   "metadata": {},
   "outputs": [
    {
     "name": "stdout",
     "output_type": "stream",
     "text": [
      "c:\\Users\\mo\\Documents\\Organisations\\RUG\\Language-Technology-Project\n"
     ]
    }
   ],
   "source": [
    "%load_ext autoreload\n",
    "%autoreload 2\n",
    "import torch\n",
    "import numpy as np\n",
    "import matplotlib.pyplot as plt\n",
    "import pandas as pd\n",
    "import os\n",
    "from typing import List, Tuple, Dict, Union, Any, Optional\n",
    "from tqdm import tqdm\n",
    "import json\n",
    "try:\n",
    "    os.chdir(os.path.join(os.getcwd(), '../../Language-Technology-Project'))\n",
    "    print(os.getcwd())\n",
    "except:\n",
    "    print(\"ALready in current dir\")"
   ]
  },
  {
   "cell_type": "code",
   "execution_count": 2,
   "metadata": {},
   "outputs": [
    {
     "name": "stdout",
     "output_type": "stream",
     "text": [
      "Head: CMV: I don't believe there is any good reason to ever feel angry about anything. I don't think it can ever help you even a little bit.\n",
      " Comment 0: When I was little, my dad would deliberately make ...\n",
      "\n",
      "Head: I Believe Junior Soldiers Are Grossly Overpaid\n",
      " Comment 0: Your submission has been automatically removed bec...\n",
      "\n",
      "Head: I think they should \"cultivate\" a more laid back culture here cmv\n",
      " Comment 0: The problem is less strict subreddits run into pro...\n",
      " Comment 1: I'm subbed to r/braveryjerk; I'm quite aware of wh...\n",
      "\n",
      "Head: CMV: Toronto is the best city in North America\n",
      " Comment 0: Hey i live in toronto... it's definitely not the b...\n",
      " Comment 1: &gt;  I'd give that to either SF (where I've lived...\n",
      " Comment 2: &gt; I actually think Toronto has better weather!\n",
      "...\n",
      " ...\n",
      "\n",
      "Head: CMV: Students get more out of standard-level courses than they do out of AP courses.\n",
      " Comment 0: If your teachers focus on \"teaching the test\" as m...\n",
      " Comment 1: I suppose? My issue is that the curriculum is desi...\n",
      " Comment 2: CollegeBoard doesn't design the actual curriculum ...\n",
      " ...\n",
      "\n",
      "Head: CMV: A large portion of depressed people have no hope for sustainable happiness regardless of treatment\n",
      " Comment 0: Well, you have to recognize you're really biased t...\n",
      " Comment 1: Very well thought out.  Thank you.  I have seen 4 ...\n",
      " Comment 2: If you don't mind me asking (And I totally underst...\n",
      " ...\n",
      "\n",
      "Head: I believe the concept of marrying for love is not a sign of social progress. CMV.\n",
      " Comment 0: &gt;arranged marriages tend to have lower divorce ...\n",
      " Comment 1: &gt; most likely because the woman/girl thinks she...\n",
      " Comment 2: There's a huge difference between arranged and for...\n",
      " ...\n",
      "\n",
      "Head: I don't believe the internet should be anonymous. CMV\n",
      " Comment 0: Would you submit this CMV if you had to attach you...\n",
      "\n",
      "Head: CMV: In the current Warcraft Universe, the Horde are simply egging the Alliance on and they are the one's driving the war\n",
      " Comment 0: So, in the precursor to the whole Gilneas shenanig...\n",
      " Comment 1: Survival wasn't something I had thought of, so tha...\n",
      " Comment 2: Well, Gilneas used to be a part of the Alliance- b...\n",
      "\n",
      "Head: CMV: Writer's should be able to take as long as they need to finish their books, and be able to do the activities they want.\n",
      " Comment 0: &gt;This, to me, seems a very selfish point of vie...\n",
      "\n",
      "...\n"
     ]
    }
   ],
   "source": [
    "from modules.cmv.data import read_data, write_data, format_data, show_data\n",
    "\n",
    "# Read the data\n",
    "data = read_data(path= \"./datasets/threads_light.jsonl\")\n",
    "data = format_data(data)\n",
    "show_data(data)"
   ]
  },
  {
   "cell_type": "code",
   "execution_count": 30,
   "metadata": {},
   "outputs": [
    {
     "name": "stderr",
     "output_type": "stream",
     "text": [
      "100%|██████████| 1024/1024 [00:00<00:00, 78738.84it/s]\n"
     ]
    },
    {
     "data": {
      "text/plain": [
       "[{'agreement_score': 1.565571822050887e-18,\n",
       "  'distances': array([1.56557182e-18])},\n",
       " {'agreement_score': 8.680323223491717e-16,\n",
       "  'distances': array([8.68032322e-16])},\n",
       " {'agreement_score': 8.130973251480232e-15,\n",
       "  'distances': array([1.60898313e-14, 1.72115168e-16])}]"
      ]
     },
     "execution_count": 30,
     "metadata": {},
     "output_type": "execute_result"
    }
   ],
   "source": [
    "def dummy_embedder(text: List[str]) -> np.ndarray:\n",
    "    \"\"\"\n",
    "    Dummy embedder\n",
    "    Args:\n",
    "        text: list of strings\n",
    "    Returns:\n",
    "        embeddings: list of lists\n",
    "    \"\"\"\n",
    "    embeddings = []\n",
    "    for i in range(len(text)):\n",
    "        emebdding = np.random.rand(16)\n",
    "        embeddings.append(emebdding)\n",
    "    embeddings = np.array(embeddings)\n",
    "    return embeddings\n",
    "\n",
    "def compute_agreement_summary(entry: dict, dist_func):\n",
    "    # compute the agreement summary\n",
    "    summary = {\n",
    "        \"agreement_score\": None,\n",
    "        \"distances\": None\n",
    "    }\n",
    "\n",
    "    # Compute emebddings\n",
    "    head_embedding = dummy_embedder([entry[\"head\"]])[0]\n",
    "    comment_embeddings = dummy_embedder(entry[\"comments\"])\n",
    "    head_embeddings = np.repeat(head_embedding.reshape(1, -1), comment_embeddings.shape[0], axis=0)\n",
    "    distances = dist_func(comment_embeddings, head_embeddings)\n",
    "\n",
    "    summary[\"distances\"] = distances\n",
    "    summary[\"agreement_score\"] = np.mean(distances)\n",
    "\n",
    "    return summary\n",
    "\n",
    "def compute_agreement_summaries(data: List[dict], dist_func=lambda x, y: np.prod(x*y, axis=1)):\n",
    "    \"\"\"\n",
    "    Compute the agreement summaries for all posts\n",
    "    Args:\n",
    "        data: list of dictionaries\n",
    "        dist_func: distance function\n",
    "    Returns:\n",
    "        summary: dictionary \n",
    "    \"\"\"\n",
    "    summaries = []\n",
    "    for entry in tqdm(data):\n",
    "        summary = compute_agreement_summary(entry, dist_func)\n",
    "        summaries.append(summary)\n",
    "    return summaries\n",
    "\n",
    "summaries = compute_agreement_summaries(data)\n",
    "summaries[:3]\n"
   ]
  },
  {
   "cell_type": "code",
   "execution_count": 81,
   "metadata": {},
   "outputs": [
    {
     "name": "stdout",
     "output_type": "stream",
     "text": [
      "Mean: 4.447265625, Std: 8.837683008611101, Percentiles: [  1.   1.   1.   4. 102.], sample size: 1024, max: 102, min: 1\n"
     ]
    }
   ],
   "source": [
    "mu = np.mean([len(entry[\"comments\"]) for entry in data])\n",
    "sigma = np.std([len(entry[\"comments\"]) for entry in data])\n",
    "per = np.percentile([len(entry[\"comments\"]) for entry in data], [0, 25, 50, 75, 100])\n",
    "max_len = np.max([len(entry[\"comments\"]) for entry in data])\n",
    "min_len = np.min([len(entry[\"comments\"]) for entry in data])\n",
    "\n",
    "print(f\"Mean: {mu}, Std: {sigma}, Percentiles: {per}, sample size: {len(data)}, max: {max_len}, min: {min_len}\")"
   ]
  },
  {
   "cell_type": "code",
   "execution_count": 117,
   "metadata": {},
   "outputs": [
    {
     "name": "stdout",
     "output_type": "stream",
     "text": [
      "Sample agreement score: 5.123003691805258e-11\n"
     ]
    },
    {
     "data": {
      "image/png": "[encoded data removed]",
      "text/plain": [
       "<Figure size 640x480 with 1 Axes>"
      ]
     },
     "metadata": {},
     "output_type": "display_data"
    }
   ],
   "source": [
    "\n",
    "all_distances =  np.concatenate([entry[\"distances\"] for entry in summaries])\n",
    "all_distances_mean = np.mean(all_distances)\n",
    "all_distances_std = np.std(all_distances)\n",
    "all_distances_interval = -1.96 * all_distances_std, 1.96 * all_distances_std\n",
    "\n",
    "sample = np.random.choice(summaries)\n",
    "sample_agreement = sample[\"agreement_score\"]\n",
    "print(f\"Sample agreement score: {sample_agreement}\")\n",
    "\n",
    "# Values are smaller than 1e-4\n",
    "plt.hist(all_distances, range=(0, all_distances_interval[1]), bins=100, label=\"All distances\", alpha=0.1, color=\"blue\")\n",
    "\n",
    "plt.axvline(x=sample_agreement, color=\"red\", label=\"Sample agreement score\")\n",
    "\n",
    "plt.xlabel(\"Agreement score\")\n",
    "plt.ylabel(\"Number of comments\")\n",
    "plt.show()"
   ]
  }
 ],
 "metadata": {
  "kernelspec": {
   "display_name": "ml_env",
   "language": "python",
   "name": "python3"
  },
  "language_info": {
   "codemirror_mode": {
    "name": "ipython",
    "version": 3
   },
   "file_extension": ".py",
   "mimetype": "text/x-python",
   "name": "python",
   "nbconvert_exporter": "python",
   "pygments_lexer": "ipython3",
   "version": "3.9.16"
  },
  "orig_nbformat": 4
 },
 "nbformat": 4,
 "nbformat_minor": 2
}
