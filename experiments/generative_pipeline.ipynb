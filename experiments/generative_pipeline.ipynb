{
 "cells": [
  {
   "cell_type": "code",
   "execution_count": 5,
   "metadata": {},
   "outputs": [
    {
     "data": {
      "application/vnd.jupyter.widget-view+json": {
       "model_id": "b604d4ad67de43e380d8ff39872a3691",
       "version_major": 2,
       "version_minor": 0
      },
      "text/plain": [
       "Downloading (…)neration_config.json:   0%|          | 0.00/124 [00:00<?, ?B/s]"
      ]
     },
     "metadata": {},
     "output_type": "display_data"
    },
    {
     "name": "stderr",
     "output_type": "stream",
     "text": [
      "c:\\Users\\mo\\anaconda3\\envs\\ml_env\\lib\\site-packages\\huggingface_hub\\file_download.py:133: UserWarning: `huggingface_hub` cache-system uses symlinks by default to efficiently store duplicated files but your machine does not support them in C:\\Users\\mo\\.cache\\huggingface\\hub. Caching files will still work but in a degraded version that might require more space on your disk. This warning can be disabled by setting the `HF_HUB_DISABLE_SYMLINKS_WARNING` environment variable. For more details, see https://huggingface.co/docs/huggingface_hub/how-to-cache#limitations.\n",
      "To support symlinks on Windows, you either need to activate Developer Mode or to run Python as an administrator. In order to see activate developer mode, see this article: https://docs.microsoft.com/en-us/windows/apps/get-started/enable-your-device-for-development\n",
      "  warnings.warn(message)\n"
     ]
    },
    {
     "name": "stdout",
     "output_type": "stream",
     "text": [
      "size_gb(model) = 5.80 GB\n",
      "vocab size: 50257\n"
     ]
    }
   ],
   "source": [
    "from transformers import GPT2Tokenizer, GPT2LMHeadModel\n",
    "import torch\n",
    "device = torch.device('cuda' if torch.cuda.is_available() else 'cpu')\n",
    "\n",
    "tokenizer = GPT2Tokenizer.from_pretrained('gpt2-xl')\n",
    "model = GPT2LMHeadModel.from_pretrained('gpt2-xl').to(device)\n",
    "\n",
    "print(f\"size_gb(model) = {model.num_parameters() * 4 / 1024**3:.2f} GB\")\n",
    "print(\"vocab size:\", tokenizer.vocab_size)"
   ]
  },
  {
   "cell_type": "code",
   "execution_count": 8,
   "metadata": {},
   "outputs": [
    {
     "name": "stdout",
     "output_type": "stream",
     "text": [
      "torch.Size([1, 10, 50257])\n",
      "age the character, well result's a woman_____\n"
     ]
    }
   ],
   "source": [
    "text = \"Man is a doctor as a women is a \"\n",
    "encoded_input = tokenizer(text, return_tensors='pt').to(device)\n",
    "output = model(**encoded_input)\n",
    "print(output[0].shape)\n",
    "# get text completion\n",
    "print(tokenizer.decode(torch.argmax(output[0], dim=2)[0]))"
   ]
  },
  {
   "cell_type": "code",
   "execution_count": 9,
   "metadata": {},
   "outputs": [
    {
     "data": {
      "text/plain": [
       "[1.080520402501984e-10, 6.820724138378864e-06, 1.1379043641373526e-11]"
      ]
     },
     "execution_count": 9,
     "metadata": {},
     "output_type": "execute_result"
    }
   ],
   "source": [
    "import torch\n",
    "\n",
    "def get_likelihoods_of_words_given_context(prompt: str, words: list, model, tokenizer):\n",
    "    \"\"\"\n",
    "    Returns a list of likelihoods of words given a prompt.\n",
    "    \"\"\"\n",
    "    word_probs = []\n",
    "\n",
    "    for word in words:\n",
    "        word_token = tokenizer.encode(word, add_special_tokens=False)\n",
    "        tokens = tokenizer(prompt, return_tensors='pt')['input_ids'].to(device)\n",
    "        tokens = torch.cat([tokens, torch.tensor(word_token).unsqueeze(0).to(device)], dim=-1)\n",
    "        outputs = model(tokens)\n",
    "        logits = outputs[0]\n",
    "        probabilities = torch.softmax(logits, dim=-1)\n",
    "\n",
    "        if len(word_token) == 1:\n",
    "            word_prob = probabilities[0, -1, word_token[0]].item()\n",
    "            word_probs.append(word_prob)\n",
    "        else:\n",
    "            word_prob = 1.0\n",
    "            for idx in range(len(word_token)):\n",
    "                word_prob *= probabilities[0, -(len(word_token) - idx), word_token[idx]].item()\n",
    "            word_probs.append(word_prob)\n",
    "\n",
    "    return word_probs\n",
    "# example\n",
    "prompt = \"Man is a doctor as a women is a\"\n",
    "get_likelihoods_of_words_given_context(prompt, [\"nurse\", \"doctor\", \"teacher\"], model, tokenizer)\n"
   ]
  },
  {
   "cell_type": "code",
   "execution_count": null,
   "metadata": {},
   "outputs": [],
   "source": [
    "categories = [\n",
    "    {\n",
    "        \"name:\": \"universalism\",\n",
    "        \"description\": \"Understanding, appreciation, tolerance, and protection for the welfare of all people and for nature.\",\n",
    "        \"examples\": [\n",
    "            \"Equality is important to me.\",\n",
    "            \"It is good to accept and try to understand those who are different from oneself.\"\n",
    "        ],\n",
    "        \"children\": []\n",
    "    },\n",
    "    {\n",
    "        \"name:\": \"self-direction\",\n",
    "        \"description\": \"Independent thought and action; choosing, creating, exploring.\",\n",
    "        \"examples\": [\n",
    "            \"It is good to search for the truth and think in a rational and unbiased way.\",\n",
    "            \"Independence is important for me to make my own decisions.\",\n",
    "        ],\n",
    "        \"children\": []\n",
    "    },\n",
    "    {\n",
    "        \"name\": \"stimulation\",\n",
    "        \"description\": \"It is good to experience excitement, novelty, and change.\",\n",
    "        \"examples\": [\n",
    "            \"Have an exciting life: arguments towards allowing people to experience foreign places and special activities or having perspective-changing experiences\",\n",
    "            \"Have a varied life: arguments towards allowing people to engage in many activities and change parts of their life or towards promoting local clubs (sports, ...)\",\n",
    "            \"Be daring: arguments towards more risk-taking\"\n",
    "        ],\n",
    "        \"children\": []\n",
    "    },\n",
    "    {\n",
    "        \"name\": \"hedonism\",\n",
    "        \"description\": \"Pleasure or sensuous gratification for oneself.\",\n",
    "        \"examples\": [\n",
    "            \"It is important to do things that make you feel good.\",\n",
    "            \"It is important to have a good time.\",\n",
    "        ],\n",
    "        \"children\": []\n",
    "    },\n",
    "    {\n",
    "        \"name\": \"achievement\",\n",
    "        \"description\": \"It is good to be successful in accordance with social norms.\",\n",
    "        \"examples\": [\n",
    "            \"It is important to show your abilities.\",\n",
    "            \"Be ambitious: arguments towards allowing for ambitions and climbing up the social ladder\",\n",
    "            \"Have success: arguments towards allowing for success and recognizing achievements\",\n",
    "            \"Be capable: arguments towards acquiring competence in certain tasks, being more effective, and showing competence in solving tasks\",\n",
    "            \"Be intellectual: arguments towards acquiring high cognitive skills, being more reflective, and showing intelligence\",\n",
    "            \"Be courageous: arguments towards being more courageous and having people stand up for their beliefs\"\n",
    "        ],\n",
    "        \"children\": []\n",
    "    },\n",
    "    {\n",
    "        \"name\": \"power\",\n",
    "        \"description\": \"Social status and prestige, control or dominance over people and resources.\",\n",
    "        \"examples\": [\n",
    "            \"It is important to be rich.\",\n",
    "            \"It is good to be in positions of control over others.\",\n",
    "        ],\n",
    "        \"children\": []\n",
    "    },\n",
    "    {\n",
    "        \"name\": \"security\",\n",
    "        \"description\": \"Safety, harmony, and stability of society, of relationships, and of self.\",\n",
    "        \"examples\": [\n",
    "            \"It is important to live in secure surroundings.\",\n",
    "            \"It is important to plan ahead so as to avoid surprises.\",\n",
    "        ],\n",
    "        \"children\": []\n",
    "    },\n",
    "    {\n",
    "        \"name\": \"tradition\",\n",
    "        \"description\": \"Respect, commitment, and acceptance of the customs and ideas that traditional culture or religion provide the self.\",\n",
    "        \"examples\": [\n",
    "            \"It is important to uphold traditions.\",\n",
    "            \"It is important to follow the customs of my religion.\",\n",
    "        ],\n",
    "    }\n",
    "    {\n",
    "        \"name\": \"conformity\",\n",
    "        \"description\": \"Restraint of actions, inclinations, and impulses likely to upset or harm others and violate social expectations or norms.\",\n",
    "        \"examples\": [\n",
    "            \"It is important to behave properly.\",\n",
    "            \"It is important to respect traditions.\",\n",
    "        ],\n",
    "        \"children\": []\n",
    "    },\n",
    "    \n",
    "]"
   ]
  }
 ],
 "metadata": {
  "kernelspec": {
   "display_name": "ml_env",
   "language": "python",
   "name": "python3"
  },
  "language_info": {
   "codemirror_mode": {
    "name": "ipython",
    "version": 3
   },
   "file_extension": ".py",
   "mimetype": "text/x-python",
   "name": "python",
   "nbconvert_exporter": "python",
   "pygments_lexer": "ipython3",
   "version": "3.9.16"
  },
  "orig_nbformat": 4
 },
 "nbformat": 4,
 "nbformat_minor": 2
}
