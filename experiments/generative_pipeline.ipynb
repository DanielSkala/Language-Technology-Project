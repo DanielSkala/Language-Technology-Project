{
 "cells": [
  {
   "cell_type": "code",
   "execution_count": 7,
   "metadata": {},
   "outputs": [
    {
     "name": "stdout",
     "output_type": "stream",
     "text": [
      "The autoreload extension is already loaded. To reload it, use:\n",
      "  %reload_ext autoreload\n",
      "ALready in current dir\n"
     ]
    }
   ],
   "source": [
    "%load_ext autoreload\n",
    "%autoreload 2\n",
    "import torch\n",
    "import numpy as np\n",
    "import matplotlib.pyplot as plt\n",
    "import pandas as pd\n",
    "import os\n",
    "from typing import List, Tuple, Dict, Union, Any, Optional\n",
    "\n",
    "try:\n",
    "    os.chdir(os.path.join(os.getcwd(), '../../Language-Technology-Project'))\n",
    "    print(os.getcwd())\n",
    "except:\n",
    "    print(\"ALready in current dir\")"
   ]
  },
  {
   "attachments": {},
   "cell_type": "markdown",
   "metadata": {},
   "source": [
    "# Generative pipeline"
   ]
  },
  {
   "cell_type": "code",
   "execution_count": 8,
   "metadata": {},
   "outputs": [
    {
     "name": "stdout",
     "output_type": "stream",
     "text": [
      "size_gb(model) = 5.80 GB\n",
      "vocab size: 50257\n"
     ]
    }
   ],
   "source": [
    "from transformers import GPT2Tokenizer, GPT2LMHeadModel\n",
    "\n",
    "device = torch.device('cuda' if torch.cuda.is_available() else 'cpu')\n",
    "\n",
    "tokenizer = GPT2Tokenizer.from_pretrained('gpt2-xl')\n",
    "model = GPT2LMHeadModel.from_pretrained('gpt2-xl').to(device)\n",
    "\n",
    "print(f\"size_gb(model) = {model.num_parameters() * 4 / 1024**3:.2f} GB\")\n",
    "print(\"vocab size:\", tokenizer.vocab_size)"
   ]
  },
  {
   "cell_type": "code",
   "execution_count": 9,
   "metadata": {},
   "outputs": [
    {
     "name": "stdout",
     "output_type": "stream",
     "text": [
      "torch.Size([1, 9, 50257])\n",
      "Top 5 tokens:\n",
      "1:  woman (0.11)\n",
      "2:  doctor (0.08)\n",
      "3:  nurse (0.05)\n",
      "4:  mother (0.04)\n",
      "5:  man (0.03)\n"
     ]
    }
   ],
   "source": [
    "text = \"Man is a doctor as a women is a\"\n",
    "encoded_input = tokenizer(text, return_tensors='pt').to(device)\n",
    "output = model(**encoded_input)\n",
    "print(output.logits.shape)\n",
    "next_token_logits = output.logits[:, -1, :]\n",
    "likelihoods = torch.softmax(next_token_logits, dim=-1)\n",
    "sorted_likelihoods, sorted_indices = torch.sort(likelihoods, descending=True)\n",
    "print(\"Top 5 tokens:\")\n",
    "for i in range(5):\n",
    "    print(f\"{i+1}: {tokenizer.decode(sorted_indices[0, i])} ({sorted_likelihoods[0, i]:.2f})\")"
   ]
  },
  {
   "cell_type": "code",
   "execution_count": 10,
   "metadata": {},
   "outputs": [
    {
     "data": {
      "text/plain": [
       "[('nurse', 1.080520402501984e-10),\n",
       " ('doctor', 6.820724138378864e-06),\n",
       " ('teacher', 1.1379043641373526e-11)]"
      ]
     },
     "execution_count": 10,
     "metadata": {},
     "output_type": "execute_result"
    }
   ],
   "source": [
    "import torch\n",
    "\n",
    "def get_likelihoods_of_words_given_context(prompt: str, words: list, model, tokenizer):\n",
    "    \"\"\"\n",
    "    Returns a list of likelihoods of words given a prompt.\n",
    "    \"\"\"\n",
    "    word_probs = []\n",
    "\n",
    "    for word in words:\n",
    "        word_token = tokenizer.encode(word, add_special_tokens=False)\n",
    "        tokens = tokenizer(prompt, return_tensors='pt')['input_ids'].to(device)\n",
    "        tokens = torch.cat([tokens, torch.tensor(word_token).unsqueeze(0).to(device)], dim=-1)\n",
    "        outputs = model(tokens)\n",
    "        logits = outputs[0]\n",
    "        probabilities = torch.softmax(logits, dim=-1)\n",
    "\n",
    "        if len(word_token) == 1:\n",
    "            word_prob = probabilities[0, -1, word_token[0]].item()\n",
    "            word_probs.append(word_prob)\n",
    "        else:\n",
    "            word_prob = 1.0\n",
    "            for idx in range(len(word_token)):\n",
    "                word_prob *= probabilities[0, -(len(word_token) - idx), word_token[idx]].item()\n",
    "            word_probs.append(word_prob)\n",
    "\n",
    "    return list(zip(words, word_probs))\n",
    "# example\n",
    "prompt = \"Man is a doctor as a women is a\"\n",
    "get_likelihoods_of_words_given_context(prompt, [\"nurse\", \"doctor\", \"teacher\"], model, tokenizer)\n"
   ]
  },
  {
   "attachments": {},
   "cell_type": "markdown",
   "metadata": {},
   "source": [
    "## Category classifier"
   ]
  },
  {
   "cell_type": "code",
   "execution_count": 18,
   "metadata": {},
   "outputs": [],
   "source": [
    "from settings import categories\n",
    "\n",
    "class LikelihoodBasedCategoryClassifier:\n",
    "\n",
    "    def __init__(self, categories):\n",
    "        self.categories = categories\n",
    "    \n",
    "    def __construct_classification_prompt(self, sentence):\n",
    "        prompt = \"multiple choice question: \\n\"\n",
    "        expectation2category = {}\n",
    "        for i, category in enumerate(self.categories):\n",
    "            name = category[\"name\"]\n",
    "            description = category[\"description\"]\n",
    "            examples = category[\"examples\"]\n",
    "            example = examples[np.random.randint(len(examples))]\n",
    "            prompt += f\"{i+1}. {name}: {description} (e.g., {example})\\n\"\n",
    "            expectation2category[i+1] = name\n",
    "        prompt += f\"\\nWhich category does the following sentence belong to?\"\n",
    "        return prompt, expectation2category\n",
    "\n",
    "    def classify(self, sentence: str) -> List[float]:\n",
    "        prompt, expectations = self.__construct_classification_prompt(sentence)\n",
    "        likelihoods = get_likelihoods_of_words_given_context(prompt, expectations.values(), model, tokenizer)\n",
    "        return likelihoods"
   ]
  },
  {
   "cell_type": "code",
   "execution_count": 19,
   "metadata": {},
   "outputs": [
    {
     "name": "stdout",
     "output_type": "stream",
     "text": [
      "sentence Independence is important for me to make my own decisions. belongs to category self-direction\n",
      "{'name': 'universalism', 'description': 'Understanding, appreciation, tolerance, and protection for the welfare of all people and for nature.', 'examples': ['Equality is important to me.', 'It is good to accept and try to understand those who are different from oneself.'], 'children': []}\n",
      "{'name': 'self-direction', 'description': 'Independent thought and action; choosing, creating, exploring.', 'examples': ['It is good to search for the truth and think in a rational and unbiased way.', 'Independence is important for me to make my own decisions.'], 'children': []}\n",
      "{'name': 'stimulation', 'description': 'It is good to experience excitement, novelty, and change.', 'examples': ['Have an exciting life: arguments towards allowing people to experience foreign places and special activities or having perspective-changing experiences', 'Have a varied life: arguments towards allowing people to engage in many activities and change parts of their life or towards promoting local clubs (sports, ...)', 'Be daring: arguments towards more risk-taking'], 'children': []}\n",
      "{'name': 'hedonism', 'description': 'Pleasure or sensuous gratification for oneself.', 'examples': ['It is important to do things that make you feel good.', 'It is important to have a good time.'], 'children': []}\n",
      "{'name': 'achievement', 'description': 'It is good to be successful in accordance with social norms.', 'examples': ['It is important to show your abilities.', 'Be ambitious: arguments towards allowing for ambitions and climbing up the social ladder', 'Have success: arguments towards allowing for success and recognizing achievements', 'Be capable: arguments towards acquiring competence in certain tasks, being more effective, and showing competence in solving tasks', 'Be intellectual: arguments towards acquiring high cognitive skills, being more reflective, and showing intelligence', 'Be courageous: arguments towards being more courageous and having people stand up for their beliefs'], 'children': []}\n",
      "{'name': 'power', 'description': 'Social status and prestige, control or dominance over people and resources.', 'examples': ['It is important to be rich.', 'It is good to be in positions of control over others.'], 'children': []}\n",
      "{'name': 'security', 'description': 'Safety, harmony, and stability of society, of relationships, and of self.', 'examples': ['It is important to live in secure surroundings.', 'It is important to plan ahead so as to avoid surprises.'], 'children': []}\n",
      "{'name': 'tradition', 'description': 'Respect, commitment, and acceptance of the customs and ideas that traditional culture or religion provide the self.', 'examples': ['It is important to uphold traditions.', 'It is important to follow the customs of my religion.']}\n",
      "{'name': 'conformity', 'description': 'Restraint of actions, inclinations, and impulses likely to upset or harm others and violate social expectations or norms.', 'examples': ['It is important to behave properly.', 'It is important to respect traditions.'], 'children': []}\n",
      "{'name': 'benevolence', 'description': 'Preservation and enhancement of the welfare of people with whom one is in frequent personal contact.', 'examples': ['It is important to help the people around you.', 'It is important to be loyal to your friends.'], 'children': []}\n",
      "[('universalism', 8.178952808554697e-10), ('self-direction', 7.677057889492055e-15), ('stimulation', 5.960392142946704e-10), ('hedonism', 3.7430210576474834e-11), ('achievement', 2.675764403731716e-16), ('power', 0.0011349805863574147), ('security', 0.0015288065187633038), ('tradition', 2.2897126462518718e-17), ('conformity', 4.233165393120092e-14), ('benevolence', 3.2104234333009714e-25)]\n"
     ]
    }
   ],
   "source": [
    "classifier = LikelihoodBasedCategoryClassifier(categories)\n",
    "# take a random category \n",
    "category = categories[np.random.randint(len(categories))]\n",
    "sentence = np.random.choice(category[\"examples\"])\n",
    "\n",
    "print(f\"sentence {sentence} belongs to category {category['name']}\")\n",
    "likelihoods = classifier.classify(sentence)\n",
    "print(likelihoods)"
   ]
  }
 ],
 "metadata": {
  "kernelspec": {
   "display_name": "ml_env",
   "language": "python",
   "name": "python3"
  },
  "language_info": {
   "codemirror_mode": {
    "name": "ipython",
    "version": 3
   },
   "file_extension": ".py",
   "mimetype": "text/x-python",
   "name": "python",
   "nbconvert_exporter": "python",
   "pygments_lexer": "ipython3",
   "version": "3.9.16"
  },
  "orig_nbformat": 4
 },
 "nbformat": 4,
 "nbformat_minor": 2
}
