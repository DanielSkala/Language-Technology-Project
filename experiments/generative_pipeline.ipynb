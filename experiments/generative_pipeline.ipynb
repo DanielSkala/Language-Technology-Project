{
 "cells": [
  {
   "cell_type": "code",
   "execution_count": 259,
   "metadata": {},
   "outputs": [
    {
     "name": "stdout",
     "output_type": "stream",
     "text": [
      "The autoreload extension is already loaded. To reload it, use:\n",
      "  %reload_ext autoreload\n",
      "ALready in current dir\n"
     ]
    }
   ],
   "source": [
    "%load_ext autoreload\n",
    "%autoreload 2\n",
    "import torch\n",
    "import numpy as np\n",
    "import matplotlib.pyplot as plt\n",
    "import pandas as pd\n",
    "import os\n",
    "from typing import List, Tuple, Dict, Union, Any, Optional\n",
    "from tqdm import tqdm\n",
    "try:\n",
    "    os.chdir(os.path.join(os.getcwd(), '../../Language-Technology-Project'))\n",
    "    print(os.getcwd())\n",
    "except:\n",
    "    print(\"ALready in current dir\")"
   ]
  },
  {
   "attachments": {},
   "cell_type": "markdown",
   "metadata": {},
   "source": [
    "# Generative pipeline"
   ]
  },
  {
   "cell_type": "code",
   "execution_count": 8,
   "metadata": {},
   "outputs": [
    {
     "name": "stdout",
     "output_type": "stream",
     "text": [
      "size_gb(model) = 5.80 GB\n",
      "vocab size: 50257\n"
     ]
    }
   ],
   "source": [
    "from transformers import GPT2Tokenizer, GPT2LMHeadModel\n",
    "\n",
    "device = torch.device('cuda' if torch.cuda.is_available() else 'cpu')\n",
    "\n",
    "tokenizer = GPT2Tokenizer.from_pretrained('gpt2-xl')\n",
    "model = GPT2LMHeadModel.from_pretrained('gpt2-xl').to(device)\n",
    "\n",
    "print(f\"size_gb(model) = {model.num_parameters() * 4 / 1024**3:.2f} GB\")\n",
    "print(\"vocab size:\", tokenizer.vocab_size)"
   ]
  },
  {
   "cell_type": "code",
   "execution_count": 9,
   "metadata": {},
   "outputs": [
    {
     "name": "stdout",
     "output_type": "stream",
     "text": [
      "torch.Size([1, 9, 50257])\n",
      "Top 5 tokens:\n",
      "1:  woman (0.11)\n",
      "2:  doctor (0.08)\n",
      "3:  nurse (0.05)\n",
      "4:  mother (0.04)\n",
      "5:  man (0.03)\n"
     ]
    }
   ],
   "source": [
    "text = \"Man is a doctor as a women is a\"\n",
    "encoded_input = tokenizer(text, return_tensors='pt').to(device)\n",
    "output = model(**encoded_input)\n",
    "print(output.logits.shape)\n",
    "next_token_logits = output.logits[:, -1, :]\n",
    "likelihoods = torch.softmax(next_token_logits, dim=-1)\n",
    "sorted_likelihoods, sorted_indices = torch.sort(likelihoods, descending=True)\n",
    "print(\"Top 5 tokens:\")\n",
    "for i in range(5):\n",
    "    print(f\"{i+1}: {tokenizer.decode(sorted_indices[0, i])} ({sorted_likelihoods[0, i]:.2f})\")"
   ]
  },
  {
   "cell_type": "code",
   "execution_count": 281,
   "metadata": {},
   "outputs": [
    {
     "data": {
      "text/plain": [
       "[('4', 0.20943237841129303),\n",
       " ('5', 0.17149624228477478),\n",
       " ('6', 0.06978660076856613),\n",
       " ('7', 0.05673491582274437),\n",
       " ('8', 0.031708039343357086),\n",
       " ('9', 0.022482799366116524)]"
      ]
     },
     "execution_count": 281,
     "metadata": {},
     "output_type": "execute_result"
    }
   ],
   "source": [
    "import torch\n",
    "\n",
    "def get_likelihoods_of_words_given_context(prompt: str, words: list, model, tokenizer):\n",
    "    \"\"\"\n",
    "    Returns a list of likelihoods of words given a prompt.\n",
    "    \"\"\"\n",
    "    encoded_input = tokenizer(prompt, return_tensors='pt').to(device)\n",
    "    output = model(**encoded_input)\n",
    "    next_token_logits = output.logits[:, -1, :]\n",
    "    likelihoods = torch.softmax(next_token_logits, dim=-1)\n",
    "    word_probs = []\n",
    "    for word in words:\n",
    "        tokens = tokenizer.encode(word)\n",
    "        # word_probs.append(likelihoods[0, tokenizer.encode(word)[0]].item())\n",
    "        probability = 1\n",
    "        for token in tokens:\n",
    "            probability *= likelihoods[0, token].item()\n",
    "        word_probs.append(probability)\n",
    "    \n",
    "    output = list(zip(words, word_probs))\n",
    "    output.sort(key=lambda x: x[1], reverse=True)\n",
    "    return output\n",
    "# example\n",
    "prompt = \"2+2=\"\n",
    "options = [\"4\", \"5\", \"6\", \"7\", \"8\", \"9\"]\n",
    "get_likelihoods_of_words_given_context(prompt, options, model, tokenizer)\n"
   ]
  },
  {
   "attachments": {},
   "cell_type": "markdown",
   "metadata": {},
   "source": [
    "## Category classifier"
   ]
  },
  {
   "cell_type": "code",
   "execution_count": 292,
   "metadata": {},
   "outputs": [],
   "source": [
    "from settings import categories\n",
    "\n",
    "class LikelihoodBasedCategoryClassifier:\n",
    "\n",
    "    def __init__(self, categories):\n",
    "        self.categories = categories\n",
    "\n",
    "    def __shuffle_categories(self):\n",
    "        np.random.shuffle(self.categories)\n",
    "    \n",
    "    def __construct_classification_prompt(self, sentence, max_length=128, categories=None):\n",
    "        prompt = \"Categories of Human Value Detection 2023 by name and description: \\n\\n\"\n",
    "        expectation2category = {}\n",
    "        for i, category in enumerate(categories):\n",
    "            name = category[\"name\"]\n",
    "            description = category[\"description\"]\n",
    "            examples = category[\"examples\"]\n",
    "            example = examples[np.random.randint(len(examples))]\n",
    "            example = example[:max_length] + \"...\" if len(example) > max_length else example\n",
    "            # otpions a-z\n",
    "            prompt += f\"- {name}: {description} (e.g., {example})\\n\"\n",
    "            expectation2category[name] = name\n",
    "        prompt += \"\\n\"\n",
    "        prompt += \"Classify the following sentence into one of the categories above:\\n\"\n",
    "        prompt += f\"\\n'Argument: {sentence}\"\n",
    "        prompt += \"\\Category: \"\n",
    "\n",
    "        return prompt, expectation2category\n",
    "\n",
    "    def classify_once(self, sentence: str) -> List[float]:\n",
    "        self.__shuffle_categories()\n",
    "        prompt, expectations = self.__construct_classification_prompt(sentence, categories=self.categories)\n",
    "        likelihoods = get_likelihoods_of_words_given_context(prompt, expectations.keys(), model, tokenizer)\n",
    "        likelihoods = [(expectations[c], p) for c, p in likelihoods]\n",
    "        return likelihoods\n",
    "    \n",
    "    def __call__(self, sentence: str, trial_count=5) -> List[float]:\n",
    "        results = {category[\"name\"]: 0.0 for category in self.categories}\n",
    "        for _ in range(trial_count):\n",
    "            likelihoods = self.classify_once(sentence)\n",
    "            for category, likelihood in likelihoods:\n",
    "                results[category] += likelihood / trial_count\n",
    "        results = list(results.items())\n",
    "        results.sort(key=lambda x: x[1], reverse=True)\n",
    "        return results\n",
    "    "
   ]
  },
  {
   "cell_type": "code",
   "execution_count": 293,
   "metadata": {},
   "outputs": [
    {
     "name": "stdout",
     "output_type": "stream",
     "text": [
      "Category: power\n",
      "Sentence: It is good to be in positions of control over others.\n",
      "Categories of Human Value Detection 2023 by name and description: \n",
      "\n",
      "- hedonism: Pleasure or sensuous gratification for oneself. (e.g., It is important to have a good time.)\n",
      "- stimulation: It is good to experience excitement, novelty, and change. (e.g., Have an exciting life: arguments towards allowing people to experience foreign places and special activities or having perspecti...)\n",
      "- self-direction: Independent thought and action; choosing, creating, exploring. (e.g., Independence is important for me to make my own decisions.)\n",
      "- conformity: Restraint of actions, inclinations, and impulses likely to upset or harm others and violate social expectations or norms. (e.g., It is important to respect traditions.)\n",
      "- tradition: Respect, commitment, and acceptance of the customs and ideas that traditional culture or religion provide the self. (e.g., It is important to uphold traditions.)\n",
      "- security: Safety, harmony, and stability of society, of relationships, and of self. (e.g., It is important to live in secure surroundings.)\n",
      "- benevolence: Preservation and enhancement of the welfare of people with whom one is in frequent personal contact. (e.g., It is important to be loyal to your friends.)\n",
      "- achievement: It is good to be successful in accordance with social norms. (e.g., Be capable: arguments towards acquiring competence in certain tasks, being more effective, and showing competence in solving tas...)\n",
      "- power: Social status and prestige, control or dominance over people and resources. (e.g., It is important to be rich.)\n",
      "- universalism: Understanding, appreciation, tolerance, and protection for the welfare of all people and for nature. (e.g., Equality is important to me.)\n",
      "\n",
      "Classify the following sentence into one of the categories above:\n",
      "\n",
      "'Argument: It is good to be in positions of control over others.\\Category: \n",
      "Categories of Human Value Detection 2023 by name and description: \n",
      "\n",
      "- stimulation: It is good to experience excitement, novelty, and change. (e.g., Be daring: arguments towards more risk-taking)\n",
      "- benevolence: Preservation and enhancement of the welfare of people with whom one is in frequent personal contact. (e.g., It is important to help the people around you.)\n",
      "- achievement: It is good to be successful in accordance with social norms. (e.g., It is important to show your abilities.)\n",
      "- self-direction: Independent thought and action; choosing, creating, exploring. (e.g., Independence is important for me to make my own decisions.)\n",
      "- tradition: Respect, commitment, and acceptance of the customs and ideas that traditional culture or religion provide the self. (e.g., It is important to follow the customs of my religion.)\n",
      "- hedonism: Pleasure or sensuous gratification for oneself. (e.g., It is important to have a good time.)\n",
      "- security: Safety, harmony, and stability of society, of relationships, and of self. (e.g., It is important to live in secure surroundings.)\n",
      "- conformity: Restraint of actions, inclinations, and impulses likely to upset or harm others and violate social expectations or norms. (e.g., It is important to respect traditions.)\n",
      "- power: Social status and prestige, control or dominance over people and resources. (e.g., It is good to be in positions of control over others.)\n",
      "- universalism: Understanding, appreciation, tolerance, and protection for the welfare of all people and for nature. (e.g., Equality is important to me.)\n",
      "\n",
      "Classify the following sentence into one of the categories above:\n",
      "\n",
      "'Argument: It is good to be in positions of control over others.\\Category: \n",
      "Categories of Human Value Detection 2023 by name and description: \n",
      "\n",
      "- hedonism: Pleasure or sensuous gratification for oneself. (e.g., It is important to have a good time.)\n",
      "- security: Safety, harmony, and stability of society, of relationships, and of self. (e.g., It is important to live in secure surroundings.)\n",
      "- self-direction: Independent thought and action; choosing, creating, exploring. (e.g., It is good to search for the truth and think in a rational and unbiased way.)\n",
      "- stimulation: It is good to experience excitement, novelty, and change. (e.g., Have a varied life: arguments towards allowing people to engage in many activities and change parts of their life or towards pro...)\n",
      "- conformity: Restraint of actions, inclinations, and impulses likely to upset or harm others and violate social expectations or norms. (e.g., It is important to respect traditions.)\n",
      "- tradition: Respect, commitment, and acceptance of the customs and ideas that traditional culture or religion provide the self. (e.g., It is important to uphold traditions.)\n",
      "- achievement: It is good to be successful in accordance with social norms. (e.g., Have success: arguments towards allowing for success and recognizing achievements)\n",
      "- benevolence: Preservation and enhancement of the welfare of people with whom one is in frequent personal contact. (e.g., It is important to help the people around you.)\n",
      "- universalism: Understanding, appreciation, tolerance, and protection for the welfare of all people and for nature. (e.g., It is good to accept and try to understand those who are different from oneself.)\n",
      "- power: Social status and prestige, control or dominance over people and resources. (e.g., It is good to be in positions of control over others.)\n",
      "\n",
      "Classify the following sentence into one of the categories above:\n",
      "\n",
      "'Argument: It is good to be in positions of control over others.\\Category: \n",
      "Categories of Human Value Detection 2023 by name and description: \n",
      "\n",
      "- universalism: Understanding, appreciation, tolerance, and protection for the welfare of all people and for nature. (e.g., It is good to accept and try to understand those who are different from oneself.)\n",
      "- achievement: It is good to be successful in accordance with social norms. (e.g., Have success: arguments towards allowing for success and recognizing achievements)\n",
      "- benevolence: Preservation and enhancement of the welfare of people with whom one is in frequent personal contact. (e.g., It is important to be loyal to your friends.)\n",
      "- conformity: Restraint of actions, inclinations, and impulses likely to upset or harm others and violate social expectations or norms. (e.g., It is important to respect traditions.)\n",
      "- stimulation: It is good to experience excitement, novelty, and change. (e.g., Be daring: arguments towards more risk-taking)\n",
      "- power: Social status and prestige, control or dominance over people and resources. (e.g., It is important to be rich.)\n",
      "- self-direction: Independent thought and action; choosing, creating, exploring. (e.g., It is good to search for the truth and think in a rational and unbiased way.)\n",
      "- security: Safety, harmony, and stability of society, of relationships, and of self. (e.g., It is important to plan ahead so as to avoid surprises.)\n",
      "- tradition: Respect, commitment, and acceptance of the customs and ideas that traditional culture or religion provide the self. (e.g., It is important to follow the customs of my religion.)\n",
      "- hedonism: Pleasure or sensuous gratification for oneself. (e.g., It is important to have a good time.)\n",
      "\n",
      "Classify the following sentence into one of the categories above:\n",
      "\n",
      "'Argument: It is good to be in positions of control over others.\\Category: \n",
      "Categories of Human Value Detection 2023 by name and description: \n",
      "\n",
      "- self-direction: Independent thought and action; choosing, creating, exploring. (e.g., Independence is important for me to make my own decisions.)\n",
      "- achievement: It is good to be successful in accordance with social norms. (e.g., Be ambitious: arguments towards allowing for ambitions and climbing up the social ladder)\n",
      "- security: Safety, harmony, and stability of society, of relationships, and of self. (e.g., It is important to live in secure surroundings.)\n",
      "- benevolence: Preservation and enhancement of the welfare of people with whom one is in frequent personal contact. (e.g., It is important to help the people around you.)\n",
      "- hedonism: Pleasure or sensuous gratification for oneself. (e.g., It is important to have a good time.)\n",
      "- stimulation: It is good to experience excitement, novelty, and change. (e.g., Be daring: arguments towards more risk-taking)\n",
      "- tradition: Respect, commitment, and acceptance of the customs and ideas that traditional culture or religion provide the self. (e.g., It is important to uphold traditions.)\n",
      "- power: Social status and prestige, control or dominance over people and resources. (e.g., It is important to be rich.)\n",
      "- conformity: Restraint of actions, inclinations, and impulses likely to upset or harm others and violate social expectations or norms. (e.g., It is important to respect traditions.)\n",
      "- universalism: Understanding, appreciation, tolerance, and protection for the welfare of all people and for nature. (e.g., Equality is important to me.)\n",
      "\n",
      "Classify the following sentence into one of the categories above:\n",
      "\n",
      "'Argument: It is good to be in positions of control over others.\\Category: \n",
      "[('power', 3.2051550988398956e-06), ('security', 1.3216963594686605e-07), ('hedonism', 5.430301748526328e-12), ('universalism', 7.86249462757336e-13), ('stimulation', 3.108625413143237e-13), ('self-direction', 3.349928240754859e-16), ('conformity', 3.050203371549937e-17), ('achievement', 2.0384295295366435e-17), ('tradition', 4.671119517846053e-19), ('benevolence', 6.756332160268223e-25)]\n",
      "Correct!\n"
     ]
    }
   ],
   "source": [
    "classifier = LikelihoodBasedCategoryClassifier(categories)\n",
    "# take a random category \n",
    "category = categories[np.random.randint(len(categories))]\n",
    "sentence = np.random.choice(category[\"examples\"])\n",
    "print(f\"Category: {category['name']}\")\n",
    "print(f\"Sentence: {sentence}\")\n",
    "\n",
    "likelihoods = classifier(sentence)\n",
    "print(likelihoods)\n",
    "if likelihoods[0][0] == category[\"name\"]:\n",
    "    print(\"Correct!\")\n",
    "else:\n",
    "    print(\"Incorrect!\")"
   ]
  },
  {
   "cell_type": "code",
   "execution_count": 277,
   "metadata": {},
   "outputs": [
    {
     "name": "stdout",
     "output_type": "stream",
     "text": [
      "Accuracy: 0.00\n"
     ]
    }
   ],
   "source": [
    "# basic evaluation go throguuh all categories and all examples\n",
    "def evaluate_classifier(classifier, categories, trial_count=5):\n",
    "    results = {category[\"name\"]: [] for category in categories}\n",
    "    \n",
    "    for category in categories:\n",
    "        for sentence in category[\"examples\"]:\n",
    "            likelihoods = classifier(sentence, trial_count=trial_count)\n",
    "            results[category[\"name\"]].append(likelihoods)\n",
    "    # compute accuracy\n",
    "    correct = 0\n",
    "    total = 0\n",
    "    for category in categories:\n",
    "        for likelihoods in results[category[\"name\"]]:\n",
    "            if likelihoods[0][0] == category[\"name\"]:\n",
    "                correct += 1\n",
    "            total += 1\n",
    "    accuracy = correct / total\n",
    "    return accuracy, results\n",
    "\n",
    "accuracy, results = evaluate_classifier(classifier, categories)\n",
    "print(f\"Accuracy: {accuracy:.2f}\")"
   ]
  }
 ],
 "metadata": {
  "kernelspec": {
   "display_name": "ml_env",
   "language": "python",
   "name": "python3"
  },
  "language_info": {
   "codemirror_mode": {
    "name": "ipython",
    "version": 3
   },
   "file_extension": ".py",
   "mimetype": "text/x-python",
   "name": "python",
   "nbconvert_exporter": "python",
   "pygments_lexer": "ipython3",
   "version": "3.9.16"
  },
  "orig_nbformat": 4
 },
 "nbformat": 4,
 "nbformat_minor": 2
}
